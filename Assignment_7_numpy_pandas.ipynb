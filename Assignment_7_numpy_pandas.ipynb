{
 "cells": [
  {
   "cell_type": "code",
   "execution_count": 1,
   "id": "ef31a0f4-5269-4a32-aef0-62748112c5a6",
   "metadata": {},
   "outputs": [
    {
     "name": "stdout",
     "output_type": "stream",
     "text": [
      "Requirement already satisfied: numpy in c:\\users\\hp\\anaconda3\\lib\\site-packages (1.26.4)\n",
      "Note: you may need to restart the kernel to use updated packages.\n"
     ]
    }
   ],
   "source": [
    "pip install numpy"
   ]
  },
  {
   "cell_type": "code",
   "execution_count": 1,
   "id": "12dc0325-a7c8-4b4f-bb4a-9f1a793ce806",
   "metadata": {},
   "outputs": [],
   "source": [
    "import numpy as np"
   ]
  },
  {
   "cell_type": "code",
   "execution_count": 13,
   "id": "43e18fa5-c4dc-4e8a-87a2-ea9e4bc1c026",
   "metadata": {},
   "outputs": [
    {
     "data": {
      "text/plain": [
       "array([ 1,  2,  3,  4,  5,  6,  7,  8,  9, 10])"
      ]
     },
     "execution_count": 13,
     "metadata": {},
     "output_type": "execute_result"
    }
   ],
   "source": [
    "#Q1\n",
    "#creating arrays\n",
    "arr1 =  np.array([1,2,3,4,5,6,7,8,9,10])\n",
    "arr1"
   ]
  },
  {
   "cell_type": "code",
   "execution_count": 9,
   "id": "b51d58f9-a6c5-41dc-96b5-6353dd141a73",
   "metadata": {},
   "outputs": [
    {
     "name": "stdout",
     "output_type": "stream",
     "text": [
      "[[ 1  2  3  4  5]\n",
      " [ 6  7  8  9 10]]\n",
      "Dimension of res_arr1: 2\n",
      "Shape of res_arr1: (2, 5)\n"
     ]
    }
   ],
   "source": [
    "#reshaping to 2*5 matrix\n",
    "res_arr1 = arr1.reshape(2,5)\n",
    "print(res_arr1)\n",
    "print('Dimension of res_arr1:', res_arr1.ndim)\n",
    "print('Shape of res_arr1:', res_arr1.shape)"
   ]
  },
  {
   "cell_type": "code",
   "execution_count": 15,
   "id": "47e8b70d-ae6d-4bc2-98a5-bbd960d57afe",
   "metadata": {},
   "outputs": [
    {
     "name": "stdout",
     "output_type": "stream",
     "text": [
      "Extracted elements: [ 6  7  8  9 10 11 12 13 14 15 16]\n"
     ]
    }
   ],
   "source": [
    "#Q2\n",
    "arr = np.arange(1, 21)\n",
    "arr\n",
    "extracted_elements = arr[5:16]\n",
    "print(\"Extracted elements:\", extracted_elements)"
   ]
  },
  {
   "cell_type": "code",
   "execution_count": 19,
   "id": "2dd1d7ed-566a-4aab-9fc4-3f6fca68b1a4",
   "metadata": {},
   "outputs": [
    {
     "name": "stdout",
     "output_type": "stream",
     "text": [
      "apples     3\n",
      "bananas    2\n",
      "oranges    1\n",
      "pears      4\n",
      "dtype: int64\n"
     ]
    }
   ],
   "source": [
    "#Q3\n",
    "import pandas as pd\n",
    "\n",
    "fruit_series = pd.Series({'apples': 3, 'bananas': 2, 'oranges': 1})\n",
    "fruit_series.loc['pears'] = 4\n",
    "print(fruit_series)"
   ]
  },
  {
   "cell_type": "code",
   "execution_count": 23,
   "id": "a17f1a34-7444-47fe-9515-f39a1749fc04",
   "metadata": {},
   "outputs": [
    {
     "name": "stdout",
     "output_type": "stream",
     "text": [
      "      name  age gender\n",
      "0    Alice   23      F\n",
      "1      Bob   35      M\n",
      "2  Charlie   45      M\n",
      "3      Das   28      M\n",
      "4      Anu   34      F\n",
      "5   Anandu   50      M\n",
      "6    Priya   29      F\n",
      "7  Prakash   40      M\n",
      "8     Manu   22      M\n",
      "9      Sam   31      M\n"
     ]
    }
   ],
   "source": [
    "#Q4\n",
    "# Define the data\n",
    "data = {\n",
    "    'name': ['Alice', 'Bob', 'Charlie', 'Das', 'Anu', 'Anandu', 'Priya', 'Prakash', 'Manu', 'Sam'],\n",
    "    'age': [23, 35, 45, 28, 34, 50, 29, 40, 22, 31],\n",
    "    'gender': ['F', 'M', 'M', 'M', 'F', 'M', 'F', 'M', 'M', 'M']\n",
    "}\n",
    "df = pd.DataFrame(data)\n",
    "print(df)\n"
   ]
  },
  {
   "cell_type": "code",
   "execution_count": 27,
   "id": "bb0cba53-c72c-4329-9f45-6f9f0e2ae852",
   "metadata": {},
   "outputs": [
    {
     "data": {
      "text/html": [
       "<div>\n",
       "<style scoped>\n",
       "    .dataframe tbody tr th:only-of-type {\n",
       "        vertical-align: middle;\n",
       "    }\n",
       "\n",
       "    .dataframe tbody tr th {\n",
       "        vertical-align: top;\n",
       "    }\n",
       "\n",
       "    .dataframe thead th {\n",
       "        text-align: right;\n",
       "    }\n",
       "</style>\n",
       "<table border=\"1\" class=\"dataframe\">\n",
       "  <thead>\n",
       "    <tr style=\"text-align: right;\">\n",
       "      <th></th>\n",
       "      <th>name</th>\n",
       "      <th>age</th>\n",
       "      <th>gender</th>\n",
       "      <th>occupation</th>\n",
       "    </tr>\n",
       "  </thead>\n",
       "  <tbody>\n",
       "    <tr>\n",
       "      <th>0</th>\n",
       "      <td>Alice</td>\n",
       "      <td>23</td>\n",
       "      <td>F</td>\n",
       "      <td>Programmer</td>\n",
       "    </tr>\n",
       "    <tr>\n",
       "      <th>1</th>\n",
       "      <td>Bob</td>\n",
       "      <td>35</td>\n",
       "      <td>M</td>\n",
       "      <td>Manager</td>\n",
       "    </tr>\n",
       "    <tr>\n",
       "      <th>2</th>\n",
       "      <td>Charlie</td>\n",
       "      <td>45</td>\n",
       "      <td>M</td>\n",
       "      <td>Analyst</td>\n",
       "    </tr>\n",
       "    <tr>\n",
       "      <th>3</th>\n",
       "      <td>Das</td>\n",
       "      <td>28</td>\n",
       "      <td>M</td>\n",
       "      <td>Programmer</td>\n",
       "    </tr>\n",
       "    <tr>\n",
       "      <th>4</th>\n",
       "      <td>Anu</td>\n",
       "      <td>34</td>\n",
       "      <td>F</td>\n",
       "      <td>Manager</td>\n",
       "    </tr>\n",
       "    <tr>\n",
       "      <th>5</th>\n",
       "      <td>Anandu</td>\n",
       "      <td>50</td>\n",
       "      <td>M</td>\n",
       "      <td>Analyst</td>\n",
       "    </tr>\n",
       "    <tr>\n",
       "      <th>6</th>\n",
       "      <td>Priya</td>\n",
       "      <td>29</td>\n",
       "      <td>F</td>\n",
       "      <td>Programmer</td>\n",
       "    </tr>\n",
       "    <tr>\n",
       "      <th>7</th>\n",
       "      <td>Prakash</td>\n",
       "      <td>40</td>\n",
       "      <td>M</td>\n",
       "      <td>Manager</td>\n",
       "    </tr>\n",
       "    <tr>\n",
       "      <th>8</th>\n",
       "      <td>Manu</td>\n",
       "      <td>22</td>\n",
       "      <td>M</td>\n",
       "      <td>Analyst</td>\n",
       "    </tr>\n",
       "    <tr>\n",
       "      <th>9</th>\n",
       "      <td>Sam</td>\n",
       "      <td>31</td>\n",
       "      <td>M</td>\n",
       "      <td>Programmer</td>\n",
       "    </tr>\n",
       "  </tbody>\n",
       "</table>\n",
       "</div>"
      ],
      "text/plain": [
       "      name  age gender  occupation\n",
       "0    Alice   23      F  Programmer\n",
       "1      Bob   35      M     Manager\n",
       "2  Charlie   45      M     Analyst\n",
       "3      Das   28      M  Programmer\n",
       "4      Anu   34      F     Manager\n",
       "5   Anandu   50      M     Analyst\n",
       "6    Priya   29      F  Programmer\n",
       "7  Prakash   40      M     Manager\n",
       "8     Manu   22      M     Analyst\n",
       "9      Sam   31      M  Programmer"
      ]
     },
     "execution_count": 27,
     "metadata": {},
     "output_type": "execute_result"
    }
   ],
   "source": [
    "#Q5\n",
    "# Adding a new row\n",
    "# use loc\n",
    "df.loc[:, 'occupation'] = ['Programmer', 'Manager', 'Analyst', 'Programmer', 'Manager', 'Analyst', 'Programmer', 'Manager', 'Analyst', 'Programmer']\n",
    "df"
   ]
  },
  {
   "cell_type": "code",
   "execution_count": 29,
   "id": "384e3be0-f0c0-4820-9940-2d66bda8cb54",
   "metadata": {},
   "outputs": [
    {
     "name": "stdout",
     "output_type": "stream",
     "text": [
      "      name  age gender  occupation\n",
      "1      Bob   35      M     Manager\n",
      "2  Charlie   45      M     Analyst\n",
      "4      Anu   34      F     Manager\n",
      "5   Anandu   50      M     Analyst\n",
      "7  Prakash   40      M     Manager\n",
      "9      Sam   31      M  Programmer\n"
     ]
    }
   ],
   "source": [
    "#Q6\n",
    "# Select rows where age is greater than or equal to 30\n",
    "df1 = df[df['age'] >= 30]\n",
    "print(df1)"
   ]
  },
  {
   "cell_type": "code",
   "execution_count": 31,
   "id": "02eedb4f-29ca-44cf-8865-68aef51e3195",
   "metadata": {},
   "outputs": [
    {
     "name": "stdout",
     "output_type": "stream",
     "text": [
      "      name  age gender  occupation\n",
      "0    Alice   23      F  Programmer\n",
      "1      Bob   35      M     Manager\n",
      "2  Charlie   45      M     Analyst\n",
      "3      Das   28      M  Programmer\n",
      "4      Anu   34      F     Manager\n",
      "5   Anandu   50      M     Analyst\n",
      "6    Priya   29      F  Programmer\n",
      "7  Prakash   40      M     Manager\n",
      "8     Manu   22      M     Analyst\n",
      "9      Sam   31      M  Programmer\n"
     ]
    }
   ],
   "source": [
    "#Q7\n",
    "#  Convert DataFrame to CSV\n",
    "df.to_csv('people_data.csv', index=False)\n",
    "new_df = pd.read_csv('people_data.csv')\n",
    "print(new_df)"
   ]
  }
 ],
 "metadata": {
  "kernelspec": {
   "display_name": "Python [conda env:base] *",
   "language": "python",
   "name": "conda-base-py"
  },
  "language_info": {
   "codemirror_mode": {
    "name": "ipython",
    "version": 3
   },
   "file_extension": ".py",
   "mimetype": "text/x-python",
   "name": "python",
   "nbconvert_exporter": "python",
   "pygments_lexer": "ipython3",
   "version": "3.12.7"
  }
 },
 "nbformat": 4,
 "nbformat_minor": 5
}
