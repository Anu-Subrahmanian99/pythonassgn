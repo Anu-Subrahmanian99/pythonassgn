{
 "cells": [
  {
   "cell_type": "code",
   "execution_count": 4,
   "id": "c14c5eff-71d7-4413-8fd1-fd550d4019ac",
   "metadata": {},
   "outputs": [],
   "source": [
    "#1 excercise\n",
    "def args_function(a, b=10, c=None):\n",
    "    if c is None:\n",
    "        print(\"Sum of first 2 numbers:\", a + b)\n",
    "    else:\n",
    "        print(\"Product of all 3 arguments:\", a * b * c)\n"
   ]
  },
  {
   "cell_type": "code",
   "execution_count": 10,
   "id": "a394b318-7cf9-40c3-8a57-7fa212c76673",
   "metadata": {},
   "outputs": [
    {
     "name": "stdout",
     "output_type": "stream",
     "text": [
      "Sum of first 2 numbers: 10\n",
      "Product of all 3 arguments: 30\n"
     ]
    }
   ],
   "source": [
    "args_function(3, b=7)\n",
    "args_function(2, b=3, c=5)"
   ]
  },
  {
   "cell_type": "code",
   "execution_count": 14,
   "id": "0b0f46ac-30b3-4e0c-a61d-96ed31d76fad",
   "metadata": {},
   "outputs": [],
   "source": [
    "def lists_number(a, b, c, d):\n",
    "    result = []\n",
    "    for word in [a, b, c, d]:\n",
    "        if len(word) >= 5:\n",
    "            result.append(word)\n",
    "    return result\n"
   ]
  },
  {
   "cell_type": "code",
   "execution_count": 16,
   "id": "9ef72dd3-e5e4-47a9-b1ab-b838c3195681",
   "metadata": {},
   "outputs": [
    {
     "name": "stdout",
     "output_type": "stream",
     "text": [
      "['apple', 'banana']\n"
     ]
    }
   ],
   "source": [
    "print(lists_number(\"apple\", \"dog\", \"banana\", \"hi\"))  \n"
   ]
  },
  {
   "cell_type": "code",
   "execution_count": 20,
   "id": "783bc72c-4c0c-47d2-ab2a-fa483dba0293",
   "metadata": {},
   "outputs": [
    {
     "name": "stdout",
     "output_type": "stream",
     "text": [
      "The result is: 17\n"
     ]
    }
   ],
   "source": [
    "#3 excercise\n",
    "\n",
    "expression = \"3 * 5 + 2\"\n",
    "result = eval(expression)\n",
    "print(\"The result is:\", result)\n"
   ]
  },
  {
   "cell_type": "code",
   "execution_count": 24,
   "id": "ad0a1e5c-d85a-4bb2-b5ac-8dd3e98d4486",
   "metadata": {},
   "outputs": [],
   "source": [
    "#4 excercise\n",
    "def is_prime(n):\n",
    "    if n < 2:\n",
    "        return False\n",
    "    for i in range(2, int(n**0.5) + 1):\n",
    "        if n % i == 0:\n",
    "            return False\n",
    "    return True\n"
   ]
  },
  {
   "cell_type": "code",
   "execution_count": 28,
   "id": "4cfb4290-4a73-47f9-9ac9-c90ed4db9e9e",
   "metadata": {},
   "outputs": [
    {
     "name": "stdout",
     "output_type": "stream",
     "text": [
      "Prime numbers: [2, 3, 5, 7, 11, 13, 17]\n"
     ]
    }
   ],
   "source": [
    "numbers = [2, 3, 4, 5, 6, 7, 8, 9, 10, 11, 13, 15, 17]\n",
    "prime_numbers = list(filter(is_prime, numbers))\n",
    "print(\"Prime numbers:\", prime_numbers)\n"
   ]
  },
  {
   "cell_type": "code",
   "execution_count": 30,
   "id": "ff743eb0-d180-4e59-95dc-3c2f5a128bc6",
   "metadata": {},
   "outputs": [
    {
     "name": "stdout",
     "output_type": "stream",
     "text": [
      "Uppercased list: ['APPLE', 'BANANA', 'GRAPE', 'ORANGE']\n"
     ]
    }
   ],
   "source": [
    "#5 excercise\n",
    "\n",
    "words = [\"apple\", \"banana\", \"grape\", \"orange\"]\n",
    "uppercased_words = list(map(str.upper, words))\n",
    "print(\"Uppercased list:\", uppercased_words)\n"
   ]
  },
  {
   "cell_type": "code",
   "execution_count": null,
   "id": "7d1709e6-7fe6-49ff-a1d8-732f8ba94862",
   "metadata": {},
   "outputs": [],
   "source": []
  }
 ],
 "metadata": {
  "kernelspec": {
   "display_name": "Python [conda env:base] *",
   "language": "python",
   "name": "conda-base-py"
  },
  "language_info": {
   "codemirror_mode": {
    "name": "ipython",
    "version": 3
   },
   "file_extension": ".py",
   "mimetype": "text/x-python",
   "name": "python",
   "nbconvert_exporter": "python",
   "pygments_lexer": "ipython3",
   "version": "3.12.7"
  }
 },
 "nbformat": 4,
 "nbformat_minor": 5
}
