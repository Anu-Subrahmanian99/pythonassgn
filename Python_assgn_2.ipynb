{
 "cells": [
  {
   "cell_type": "code",
   "execution_count": 1,
   "id": "620b9140-5fd7-40a5-94dc-24733cfb4ebe",
   "metadata": {},
   "outputs": [
    {
     "name": "stdout",
     "output_type": "stream",
     "text": [
      "[1, 3, 4, 6, 56]\n"
     ]
    }
   ],
   "source": [
    "#Create a list of 5 random numbers and print the list.\n",
    "\n",
    "val = [1,3,4,6,56]\n",
    "print(val)\n"
   ]
  },
  {
   "cell_type": "code",
   "execution_count": 3,
   "id": "461627ee-d53a-4b97-a458-e06bd8d9a385",
   "metadata": {},
   "outputs": [
    {
     "name": "stdout",
     "output_type": "stream",
     "text": [
      "[1, 3, 4, 6, 56, 34, 23, 12]\n"
     ]
    }
   ],
   "source": [
    "#Insert 3 new values to the list and print the updated list. \n",
    "\n",
    "val.extend([\"34\",\" 23\", \"12\"])  \n",
    "print(val)"
   ]
  },
  {
   "cell_type": "code",
   "execution_count": 9,
   "id": "22d25183-adc6-4f80-ae3f-82b454a84613",
   "metadata": {},
   "outputs": [
    {
     "name": "stdout",
     "output_type": "stream",
     "text": [
      "1\n",
      "3\n",
      "4\n",
      "6\n",
      "56\n",
      "34\n",
      "23\n",
      "12\n"
     ]
    }
   ],
   "source": [
    "#Try to use a for loop to print each element in the list\n",
    "val = [1, 3, 4, 6, 56, '34', '23', '12']\n",
    "\n",
    "for i in val:\n",
    "    print(i) \n"
   ]
  },
  {
   "cell_type": "code",
   "execution_count": 11,
   "id": "36f9da42-8c36-4ea7-9713-cc1cc2b25ab5",
   "metadata": {},
   "outputs": [
    {
     "name": "stdout",
     "output_type": "stream",
     "text": [
      "{'name': 'John', 'age': '25', 'address': 'New York'}\n"
     ]
    }
   ],
   "source": [
    "#Create a dictionary with keys 'name', 'age', and 'address' and values 'John', 25, and 'New York' respectively. \n",
    "\n",
    "dict = {\"name\": \"John\",\"age\": \"25\",\"address\" : \"New York\"}\n",
    "\n",
    "print(dict)"
   ]
  },
  {
   "cell_type": "code",
   "execution_count": 13,
   "id": "1c8c1852-921f-465a-875b-109177b1124d",
   "metadata": {},
   "outputs": [
    {
     "name": "stdout",
     "output_type": "stream",
     "text": [
      "the key value pairs of dict are: {'name': 'John', 'age': '25', 'address': 'New York', 'phone': 1234567890}\n"
     ]
    }
   ],
   "source": [
    "#Add a new key-value pair to the dictionary created in Q1 with key 'phone' and value '1234567890'.\n",
    "\n",
    "\n",
    "dict['phone']= 1234567890\n",
    "print('the key value pairs of dict are:', dict)"
   ]
  },
  {
   "cell_type": "code",
   "execution_count": 35,
   "id": "05f08000-93fe-4984-a2ef-9b3a0018f9b1",
   "metadata": {},
   "outputs": [
    {
     "name": "stdout",
     "output_type": "stream",
     "text": [
      "values of set1 is: {1, 2, 3, 4, 5}\n"
     ]
    }
   ],
   "source": [
    "#Create a set with values 1, 2, 3, 4, and 5.\n",
    " \n",
    "set1 = {1, 2, 3, 4, 5}  \n",
    "print('values of set1 is:',set1)\n"
   ]
  },
  {
   "cell_type": "code",
   "execution_count": 37,
   "id": "c91b3436-580c-4c47-b6c0-73eeb1ad9183",
   "metadata": {},
   "outputs": [
    {
     "data": {
      "text/plain": [
       "{1, 2, 3, 4, 5, '6'}"
      ]
     },
     "execution_count": 37,
     "metadata": {},
     "output_type": "execute_result"
    }
   ],
   "source": [
    "#Add the value 6 to the set created in Q1.\n",
    " \n",
    "set1.add('6')\n",
    "set1\n"
   ]
  },
  {
   "cell_type": "code",
   "execution_count": 45,
   "id": "cf6216a6-2c2a-4b9b-b7cd-bd306ed61af1",
   "metadata": {},
   "outputs": [
    {
     "data": {
      "text/plain": [
       "{1, 2, 4, 5, '6'}"
      ]
     },
     "execution_count": 45,
     "metadata": {},
     "output_type": "execute_result"
    }
   ],
   "source": [
    "#Remove the value 3 from the set created in Q1. \n",
    " \n",
    "set1.remove(3)\n",
    "set1\n"
   ]
  },
  {
   "cell_type": "code",
   "execution_count": 47,
   "id": "2e62e675-54ee-405a-8118-530e6f35475d",
   "metadata": {},
   "outputs": [
    {
     "name": "stdout",
     "output_type": "stream",
     "text": [
      "(1, 2, 3, 4)\n"
     ]
    }
   ],
   "source": [
    "#Create a tuple with values 1, 2, 3, and 4 \n",
    " \n",
    "tuple1 = (1,2,3,4)\n",
    "print(tuple1)\n",
    " \n"
   ]
  },
  {
   "cell_type": "code",
   "execution_count": 55,
   "id": "59c40f8d-0671-467d-9358-cd19240987a6",
   "metadata": {},
   "outputs": [
    {
     "name": "stdout",
     "output_type": "stream",
     "text": [
      "the length of tuple1 is: 4\n"
     ]
    }
   ],
   "source": [
    "#Print the length of the tuple created in Q1.\n",
    "\n",
    "print('the length of tuple1 is:',len(tuple1))"
   ]
  },
  {
   "cell_type": "code",
   "execution_count": null,
   "id": "050eb97e-f41e-4cf7-ade2-f4e87292a0d5",
   "metadata": {},
   "outputs": [],
   "source": []
  }
 ],
 "metadata": {
  "kernelspec": {
   "display_name": "Python [conda env:base] *",
   "language": "python",
   "name": "conda-base-py"
  },
  "language_info": {
   "codemirror_mode": {
    "name": "ipython",
    "version": 3
   },
   "file_extension": ".py",
   "mimetype": "text/x-python",
   "name": "python",
   "nbconvert_exporter": "python",
   "pygments_lexer": "ipython3",
   "version": "3.12.7"
  }
 },
 "nbformat": 4,
 "nbformat_minor": 5
}
