{
 "cells": [
  {
   "cell_type": "code",
   "execution_count": 5,
   "id": "0c1fcd34-73aa-4782-b983-4768f810141a",
   "metadata": {},
   "outputs": [],
   "source": [
    "#excerise 1\n",
    "name = \"Anu Subrahmanian\"\n",
    "studentid = \"S1001\"\n",
    "emailid = \"anusubrahmanian@gmail.com\"\n"
   ]
  },
  {
   "cell_type": "code",
   "execution_count": 7,
   "id": "6400d21f-21fb-4056-990b-6fb04b5fa156",
   "metadata": {},
   "outputs": [
    {
     "name": "stdout",
     "output_type": "stream",
     "text": [
      "Anu Subrahmanian\n",
      "S1001\n",
      "anusubrahmanian@gmail.com\n"
     ]
    }
   ],
   "source": [
    "print(name)\n",
    "print(studentid)\n",
    "print(emailid)"
   ]
  },
  {
   "cell_type": "code",
   "execution_count": 18,
   "id": "5c6d229c-2a67-47e1-8f94-19ec8cdc02a0",
   "metadata": {},
   "outputs": [
    {
     "name": "stdout",
     "output_type": "stream",
     "text": [
      "Anu Subrahmanian\n",
      "S1001\n",
      "anusubrahmanian@gmail.com\n"
     ]
    }
   ],
   "source": [
    "#excerise 2\n",
    "print(name + \"\\n\" + studentid + \"\\n\" + emailid)"
   ]
  },
  {
   "cell_type": "code",
   "execution_count": 20,
   "id": "61bbe222-7453-47cc-9553-81b9d530410c",
   "metadata": {},
   "outputs": [],
   "source": [
    "#excercise 3\n",
    "A = 14\n",
    "B = 7"
   ]
  },
  {
   "cell_type": "code",
   "execution_count": 22,
   "id": "8ddd3934-9e8a-45e2-9470-b6e8c3a96f3c",
   "metadata": {},
   "outputs": [
    {
     "name": "stdout",
     "output_type": "stream",
     "text": [
      "21\n",
      "7\n",
      "98\n",
      "2.0\n"
     ]
    }
   ],
   "source": [
    "print(A+B)\n",
    "print(A-B)\n",
    "print(A*B)\n",
    "print(A/B)"
   ]
  },
  {
   "cell_type": "code",
   "execution_count": 24,
   "id": "35e8a8f7-78b4-43d0-b760-d4764945546b",
   "metadata": {},
   "outputs": [
    {
     "name": "stdout",
     "output_type": "stream",
     "text": [
      "1\n",
      "2\n",
      "3\n",
      "4\n",
      "5\n"
     ]
    }
   ],
   "source": [
    "#excercise 4\n",
    "print(\"1\\n2\\n3\\n4\\n5\")"
   ]
  },
  {
   "cell_type": "code",
   "execution_count": 30,
   "id": "e28ff95e-94fe-4f05-9a93-bcf793738fad",
   "metadata": {},
   "outputs": [
    {
     "name": "stdout",
     "output_type": "stream",
     "text": [
      "\"SDK\" stands for \"Software Development Kit\", whereas \n",
      " \"IDE\" stands for \"Integrated Development Environment.\"\n"
     ]
    }
   ],
   "source": [
    "#excercise 5\n",
    "print(\"\\\"SDK\\\" stands for \\\"Software Development Kit\\\", whereas \\n \\\"IDE\\\" stands for \\\"Integrated Development Environment.\\\"\")\n",
    "\n"
   ]
  },
  {
   "cell_type": "code",
   "execution_count": 36,
   "id": "bf62d984-7c06-4208-a0f1-59af0e15ca2e",
   "metadata": {},
   "outputs": [
    {
     "name": "stdout",
     "output_type": "stream",
     "text": [
      "python is an \"awesome\" language.\n",
      "python\n",
      "\t2023\n",
      "I'm from Entri\n",
      "5\n",
      "e\n",
      "Entri\n",
      "2023\n",
      "Entr2023\n",
      "Entri*20"
     ]
    }
   ],
   "source": [
    "#excercise 6\n",
    "print(\"python is an \\\"awesome\\\" language.\")\n",
    "print(\"python\\n\\t2023\")\n",
    "print('I\\'m from Entri.\\b')\n",
    "print(\"\\65\")\n",
    "print(\"\\x65\")\n",
    "print(\"Entri\", \"2023\", sep=\"\\n\")\n",
    "print(\"Entri\", \"2023\", sep=\"\\b\")\n",
    "print(\"Entri\", \"2023\", sep=\"*\", end=\"\\b\\b\\b\\b\")\n"
   ]
  },
  {
   "cell_type": "code",
   "execution_count": 54,
   "id": "7d2129c3-eafc-4826-9f5f-1ef5243249cf",
   "metadata": {},
   "outputs": [],
   "source": [
    "#excercise 7\n",
    "num=23\n",
    "textnum=\"57\"\n",
    "decimal=98.3\n",
    "textnum = int(textnum)"
   ]
  },
  {
   "cell_type": "code",
   "execution_count": 48,
   "id": "42e1fba3-00c5-4dbe-9442-f4bba2b9824d",
   "metadata": {},
   "outputs": [
    {
     "name": "stdout",
     "output_type": "stream",
     "text": [
      "type of num is: <class 'int'>\n",
      "type of textnum is: <class 'str'>\n",
      "type of decimal is: <class 'float'>\n"
     ]
    }
   ],
   "source": [
    "print(\"type of num is:\",type(num))\n",
    "print(\"type of textnum is:\",type(textnum))\n",
    "print(\"type of decimal is:\",type(decimal))"
   ]
  },
  {
   "cell_type": "code",
   "execution_count": 56,
   "id": "f38cff35-ab60-46ec-b258-47455ab29b9c",
   "metadata": {},
   "outputs": [
    {
     "name": "stdout",
     "output_type": "stream",
     "text": [
      "sum of variables: 178.3\n"
     ]
    }
   ],
   "source": [
    "print (\"sum of variables:\",sum([num, textnum, decimal]))"
   ]
  },
  {
   "cell_type": "code",
   "execution_count": 58,
   "id": "18bc51b8-99e3-471a-bd4d-45146e12a995",
   "metadata": {},
   "outputs": [],
   "source": [
    "#excercise 8\n",
    "no_of_days = 365\n",
    "hrs_in_day = 24\n",
    "mins_in_hr = 60"
   ]
  },
  {
   "cell_type": "code",
   "execution_count": 64,
   "id": "266d3be7-c159-4e9e-bef6-05e5ec68ed98",
   "metadata": {},
   "outputs": [
    {
     "name": "stdout",
     "output_type": "stream",
     "text": [
      "525600\n"
     ]
    }
   ],
   "source": [
    " total_number_minutes_in_an_year = no_of_days * hrs_in_day * mins_in_hr\n",
    "print(total_number_minutes_in_an_year)\n"
   ]
  },
  {
   "cell_type": "code",
   "execution_count": 68,
   "id": "7d269cf0-b77c-4858-aa7e-6349ad29d22b",
   "metadata": {},
   "outputs": [
    {
     "name": "stdout",
     "output_type": "stream",
     "text": [
      "the total number of minutes in an year: 525600\n"
     ]
    }
   ],
   "source": [
    "print(\"the total number of minutes in an year:\", total_number_minutes_in_an_year)"
   ]
  },
  {
   "cell_type": "code",
   "execution_count": 84,
   "id": "07970ffa-e3dd-4c67-bdd6-58a70b311b39",
   "metadata": {},
   "outputs": [
    {
     "name": "stdin",
     "output_type": "stream",
     "text": [
      "Please enter your name:  Anu\n"
     ]
    },
    {
     "name": "stdout",
     "output_type": "stream",
     "text": [
      "Hi Anu, welcome to Python programming :)\n"
     ]
    }
   ],
   "source": [
    "#excercise 9\n",
    "name_of_person = input(\"Please enter your name: \")\n",
    "\n",
    "print(\"Hi \"+name_of_person+\", welcome to Python programming :)\")"
   ]
  },
  {
   "cell_type": "code",
   "execution_count": 90,
   "id": "1a3561ae-537e-4b6c-aa5e-143d38576a23",
   "metadata": {},
   "outputs": [
    {
     "name": "stdin",
     "output_type": "stream",
     "text": [
      "Please enter amount in pounds:  1000\n"
     ]
    },
    {
     "name": "stdout",
     "output_type": "stream",
     "text": [
      "£ 1000.0 are $ 1250.00\n"
     ]
    }
   ],
   "source": [
    "#excercise 10\n",
    "name_of_file = \"PoundsToDollars.py\"\n",
    "pounds = float(input(\"Please enter amount in pounds: \"))\n",
    "conversion_rate = 1.25\n",
    "dollars = pounds * conversion_rate\n",
    "print(f\"£ {pounds} are $ {dollars:.2f}\")\n"
   ]
  },
  {
   "cell_type": "code",
   "execution_count": null,
   "id": "529e6a16-93b5-4b0f-946b-f4c6bb84883c",
   "metadata": {},
   "outputs": [],
   "source": []
  }
 ],
 "metadata": {
  "kernelspec": {
   "display_name": "Python [conda env:base] *",
   "language": "python",
   "name": "conda-base-py"
  },
  "language_info": {
   "codemirror_mode": {
    "name": "ipython",
    "version": 3
   },
   "file_extension": ".py",
   "mimetype": "text/x-python",
   "name": "python",
   "nbconvert_exporter": "python",
   "pygments_lexer": "ipython3",
   "version": "3.12.7"
  }
 },
 "nbformat": 4,
 "nbformat_minor": 5
}
