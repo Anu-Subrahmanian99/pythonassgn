{
 "cells": [
  {
   "cell_type": "code",
   "execution_count": 7,
   "id": "5005b899-b7cf-4d99-9ba0-93f5abf61c75",
   "metadata": {},
   "outputs": [],
   "source": [
    "#Q1 university's course catalog.\n",
    "#Base class\n",
    "class Course:\n",
    "    def __init__(self, course_code, course_name, credit_hours):\n",
    "        self.course_code = course_code\n",
    "        self.course_name = course_name\n",
    "        self.credit_hours = credit_hours\n",
    "\n",
    "    def course_details(self):\n",
    "        return f'{self.course_code} - {self.course_name} ({self.credit_hours} Credit Hours)'"
   ]
  },
  {
   "cell_type": "code",
   "execution_count": 9,
   "id": "63cdd467-ec2d-41d2-83f7-9d424fbf6fe7",
   "metadata": {},
   "outputs": [
    {
     "name": "stdout",
     "output_type": "stream",
     "text": [
      "C103 - Python Introduction (4 Credit Hours)\n",
      "Python Introduction\n"
     ]
    }
   ],
   "source": [
    "Details1 = Course('C103', 'Python Introduction', 4)\n",
    "Details2 = Course('C104', 'MySQL', 3)\n",
    "print(Details1.course_details())\n",
    "print(Details1.course_name)"
   ]
  },
  {
   "cell_type": "code",
   "execution_count": 11,
   "id": "6ac064a0-c197-42dc-8ea5-f574eb041d18",
   "metadata": {},
   "outputs": [],
   "source": [
    "#subclass CoreCourse\n",
    "class CoreCourse(Course):\n",
    "    def __init__(self,course_code, course_name, credit_hours,required_for_major):\n",
    "        super().__init__(course_code, course_name, credit_hours)\n",
    "        self.required_for_major = required_for_major\n",
    "        \n",
    "    def course_details(self):\n",
    "        status = \"Required\" if self.required_for_major else \"Optional\"\n",
    "        return f'{super().course_details()} - Core ({status})'"
   ]
  },
  {
   "cell_type": "code",
   "execution_count": 13,
   "id": "077749cc-ce8d-45ae-9bc1-57b167c99c73",
   "metadata": {},
   "outputs": [
    {
     "name": "stdout",
     "output_type": "stream",
     "text": [
      "C103\n",
      "True\n"
     ]
    }
   ],
   "source": [
    "Status_requires = CoreCourse('C103', 'Python Introduction', 4, True)\n",
    "print(Status_requires.course_code)\n",
    "print(Status_requires.required_for_major)"
   ]
  },
  {
   "cell_type": "code",
   "execution_count": 15,
   "id": "d2b13677-c83b-4b13-8d25-6e9137372f00",
   "metadata": {},
   "outputs": [
    {
     "name": "stdout",
     "output_type": "stream",
     "text": [
      "Technical\n",
      "Literature is having an elective  Liberal Arts\n"
     ]
    }
   ],
   "source": [
    "#subclass ElectiveCourse\n",
    "class ElectiveCourse(Course):\n",
    "    def __init__(self,course_code, course_name, credit_hours,elective_type):\n",
    "        super().__init__(course_code, course_name, credit_hours)\n",
    "        self.elective_type = elective_type\n",
    "        \n",
    "    def course_details(self):\n",
    "        return f'{self.course_name} is having an elective  {self.elective_type}'\n",
    "        \n",
    "Elective_details = ElectiveCourse('C103', 'Python Introduction', 4, 'General')\n",
    "Elective_details1 = ElectiveCourse('C102', 'Diploma in Trade', 2, 'Technical')\n",
    "Elective_details2 = ElectiveCourse('C199', 'Literature', 2, 'Liberal Arts')\n",
    "print(Elective_details1.elective_type)\n",
    "print(Elective_details2.course_details())"
   ]
  },
  {
   "cell_type": "code",
   "execution_count": 33,
   "id": "0a12b549-77e9-43d3-b646-e7dda5615bfc",
   "metadata": {},
   "outputs": [
    {
     "name": "stdout",
     "output_type": "stream",
     "text": [
      "Current Working Directory: C:\\Users\\HP\n"
     ]
    }
   ],
   "source": [
    "import os\n",
    "print(\"Current Working Directory:\", os.getcwd())"
   ]
  },
  {
   "cell_type": "code",
   "execution_count": 19,
   "id": "3930c0ec-3644-48c7-a87e-523acd3bac29",
   "metadata": {},
   "outputs": [],
   "source": [
    "#Q2\n",
    "#create python module\n",
    "class Employee:\n",
    "    def __init__(self,name,salary):\n",
    "        self.name = name\n",
    "        self.salary = salary\n",
    "        \n",
    "    def get_name(self):\n",
    "        return self.name\n",
    "\n",
    "    def get_salary(self):\n",
    "        return self.salary"
   ]
  },
  {
   "cell_type": "code",
   "execution_count": 35,
   "id": "df2e705f-ae7e-418a-a9b7-c44046e4cd55",
   "metadata": {},
   "outputs": [],
   "source": [
    "import employee_4 # Import the class from the module"
   ]
  },
  {
   "cell_type": "code",
   "execution_count": 37,
   "id": "262bcfbc-e19b-4bcc-9f3d-0a0ee082bc1c",
   "metadata": {},
   "outputs": [
    {
     "name": "stdout",
     "output_type": "stream",
     "text": [
      "Name: Anandu, Salary: 70000\n",
      "Name: Anu, Salary: 60000\n"
     ]
    }
   ],
   "source": [
    "#use this module to create an object of the Employee class and display its name and salary.\n",
    "emp1 = Employee(\"Anandu\", 70000)\n",
    "emp2 = Employee(\"Anu\", 60000)\n",
    "\n",
    "print(f\"Name: {emp1.get_name()}, Salary: {emp1.get_salary()}\")\n",
    "print(f\"Name: {emp2.get_name()}, Salary: {emp2.get_salary()}\")"
   ]
  }
 ],
 "metadata": {
  "kernelspec": {
   "display_name": "Python [conda env:base] *",
   "language": "python",
   "name": "conda-base-py"
  },
  "language_info": {
   "codemirror_mode": {
    "name": "ipython",
    "version": 3
   },
   "file_extension": ".py",
   "mimetype": "text/x-python",
   "name": "python",
   "nbconvert_exporter": "python",
   "pygments_lexer": "ipython3",
   "version": "3.12.7"
  }
 },
 "nbformat": 4,
 "nbformat_minor": 5
}
