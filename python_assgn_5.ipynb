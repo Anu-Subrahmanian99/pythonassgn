{
 "cells": [
  {
   "cell_type": "code",
   "execution_count": 21,
   "id": "e10639c5-2895-4f62-97cf-270cabcf512e",
   "metadata": {},
   "outputs": [
    {
     "name": "stdout",
     "output_type": "stream",
     "text": [
      "The content of file from CWD is: \n",
      "This is the content for excercise 1!!!\n"
     ]
    }
   ],
   "source": [
    "#Exercise 1\n",
    "#open a txt file\n",
    "file = open('read_file.txt','w')\n",
    "file.write('This is the content for excercise 1!!!')\n",
    "file.close() \n",
    "\n",
    "# Reading this opened file\n",
    "with open('read_file.txt', 'r') as abc:\n",
    "    content = abc.read()\n",
    "    print('The content of file from CWD is: ')\n",
    "    print(content)"
   ]
  },
  {
   "cell_type": "code",
   "execution_count": 29,
   "id": "ee9d8bd6-7c74-4f82-a983-8a08f820c6ee",
   "metadata": {},
   "outputs": [
    {
     "name": "stdout",
     "output_type": "stream",
     "text": [
      "Contents copied from 'source.txt' to 'destination.txt'\n",
      "\n",
      "Contents of 'destination.txt':\n",
      "Hello, this is a test file.\n",
      "Let's copy this text to another file.\n"
     ]
    }
   ],
   "source": [
    "#Exercise 2\n",
    "  \n",
    "# Create the source file\n",
    "with open('source.txt', 'w') as f:\n",
    "    f.write(\"Hello, this is a test file.\\nLet's copy this text to another file.\")\n",
    "\n",
    "#  Define the copy function\n",
    "def copy_file(item1, item2):\n",
    "    with open(item1, 'r') as src:\n",
    "        contents = src.read()\n",
    "\n",
    "    with open(item2, 'w') as dest:\n",
    "        dest.write(contents)\n",
    "\n",
    "    print(f\"Contents copied from '{item1}' to '{item2}'\")\n",
    "\n",
    "#  Use the function to copy contents\n",
    "copy_file('source.txt', 'destination.txt')\n",
    "\n",
    "#  Show contents of the copied file\n",
    "with open('destination.txt', 'r') as f:\n",
    "    print(\"\\nContents of 'destination.txt':\")\n",
    "    print(f.read())\n"
   ]
  },
  {
   "cell_type": "code",
   "execution_count": 36,
   "id": "c9ae7ba5-1a24-4da3-bb00-5ab7ec40529a",
   "metadata": {},
   "outputs": [
    {
     "name": "stdout",
     "output_type": "stream",
     "text": [
      "The content of file from CWD is:\n",
      "This is the content for excercise 1!!!\n",
      "The count of total number of words in the file is: 7\n"
     ]
    }
   ],
   "source": [
    "# Exercise 3: Read a file and count total number of words\n",
    "\n",
    "# Reading file\n",
    "with open('read_file.txt', 'r') as fgh:\n",
    "    content = fgh.read()\n",
    "    print('The content of file from CWD is:')\n",
    "    print(content)\n",
    "\n",
    "    words = content.split()\n",
    "    print('The count of total number of words in the file is:', len(words))\n"
   ]
  },
  {
   "cell_type": "code",
   "execution_count": 55,
   "id": "135d1a1c-36ce-4f38-8615-adb6224bb1af",
   "metadata": {},
   "outputs": [
    {
     "name": "stdin",
     "output_type": "stream",
     "text": [
      "Enter something to convert to integer:  Anu\n"
     ]
    },
    {
     "name": "stdout",
     "output_type": "stream",
     "text": [
      "The input could not be converted to an integer.\n"
     ]
    }
   ],
   "source": [
    "#Exercise 4\n",
    " \n",
    "def input_string():\n",
    "    try:\n",
    "        user_input = input(\"Enter something to convert to integer: \")\n",
    "        result = int(user_input)\n",
    "        print(f\"The result of converting to integer is: {result}\")\n",
    "    except ValueError:\n",
    "        print(\"The input could not be converted to an integer.\")\n",
    "\n",
    "# Call the function\n",
    "input_string()\n"
   ]
  },
  {
   "cell_type": "code",
   "execution_count": 69,
   "id": "8fea9837-2752-41b9-889c-8c890fe379b8",
   "metadata": {},
   "outputs": [
    {
     "name": "stdin",
     "output_type": "stream",
     "text": [
      "Input a list of integers (space-separated):  23 -34\n"
     ]
    },
    {
     "name": "stdout",
     "output_type": "stream",
     "text": [
      "Error: Negative integer found: -34\n"
     ]
    }
   ],
   "source": [
    "#Exercise 5 Write a Python program that prompts the user to input a list of integers and raises an exception \n",
    "# if any of the integers in the list are negative.\n",
    "\n",
    "def input_neg():\n",
    "    try:\n",
    "        user_input = input(\"Input a list of integers (space-separated): \")\n",
    "        numbers = [int(x) for x in user_input.split()]\n",
    "\n",
    "        for num in numbers:\n",
    "            if num < 0:\n",
    "                raise ValueError(f\"Negative integer found: {num}\")\n",
    "\n",
    "        print(f\"The list of integers is: {numbers}\")\n",
    "\n",
    "    except ValueError as e:\n",
    "        print(f\"Error: {e}\")\n",
    "\n",
    "# Call the function\n",
    "input_neg()\n"
   ]
  },
  {
   "cell_type": "code",
   "execution_count": 71,
   "id": "9897b426-5a4e-4bad-8f03-dda6ba3b3abb",
   "metadata": {},
   "outputs": [
    {
     "name": "stdin",
     "output_type": "stream",
     "text": [
      "Enter a list of integers (space-separated):  23 34 45\n"
     ]
    },
    {
     "name": "stdout",
     "output_type": "stream",
     "text": [
      "The average of the integers is: 34.00\n"
     ]
    }
   ],
   "source": [
    "#excercise 6\n",
    "\n",
    "def compute_average():\n",
    "    try:\n",
    "        user_input = input(\"Enter a list of integers (space-separated): \")\n",
    "        numbers = [int(x) for x in user_input.split()]\n",
    "        \n",
    "        if not numbers:\n",
    "            print(\"The list is empty. Cannot compute an average.\")\n",
    "            return\n",
    "        \n",
    "        average = sum(numbers) / len(numbers)\n",
    "        print(f\"The average of the integers is: {average:.2f}\")\n",
    "\n",
    "    except ValueError:\n",
    "        print(\"Invalid input. Please enter only integers.\")\n",
    "\n",
    "# Call the function\n",
    "compute_average()\n"
   ]
  },
  {
   "cell_type": "code",
   "execution_count": 73,
   "id": "ce53e2ff-5e19-4406-9618-2ef378711354",
   "metadata": {},
   "outputs": [
    {
     "name": "stdin",
     "output_type": "stream",
     "text": [
      "Enter the filename to write to:  personal_data\n"
     ]
    },
    {
     "name": "stdout",
     "output_type": "stream",
     "text": [
      "Welcome! The string was successfully written to the file.\n"
     ]
    }
   ],
   "source": [
    "#excercise 8\n",
    "def write_to_file():\n",
    "    try:\n",
    "        filename = input(\"Enter the filename to write to: \")\n",
    "        with open(filename, 'w') as file:\n",
    "            file.write(\"Hello! This is a sample string written to the file.\")\n",
    "        \n",
    "        print(\"Welcome! The string was successfully written to the file.\")\n",
    "    \n",
    "    except Exception as e:\n",
    "        print(f\"An error occurred: {e}\")\n",
    "\n",
    "# Call the function\n",
    "write_to_file()\n"
   ]
  }
 ],
 "metadata": {
  "kernelspec": {
   "display_name": "Python [conda env:base] *",
   "language": "python",
   "name": "conda-base-py"
  },
  "language_info": {
   "codemirror_mode": {
    "name": "ipython",
    "version": 3
   },
   "file_extension": ".py",
   "mimetype": "text/x-python",
   "name": "python",
   "nbconvert_exporter": "python",
   "pygments_lexer": "ipython3",
   "version": "3.12.7"
  }
 },
 "nbformat": 4,
 "nbformat_minor": 5
}
