{
 "cells": [
  {
   "cell_type": "code",
   "execution_count": 5,
   "id": "b92cb71a-b755-469a-a7fb-ff980d9d0664",
   "metadata": {},
   "outputs": [
    {
     "name": "stdin",
     "output_type": "stream",
     "text": [
      "Enter the month (1-12):  5\n"
     ]
    },
    {
     "name": "stdout",
     "output_type": "stream",
     "text": [
      "Month 5 is May\n"
     ]
    }
   ],
   "source": [
    "#excercise 1\n",
    "month = {1: 'January', 2: 'February', 3: 'March', 4: 'April', 5: 'May', \n",
    "         6: 'June', 7: 'July', 8: 'August', 9: 'September', 10: 'October', \n",
    "         11: 'November', 12: 'December'}\n",
    "\n",
    "month_num = int(input(\"Enter the month (1-12): \"))  # Convert input to int\n",
    "\n",
    "if month_num in month:\n",
    "    print(f\"Month {month_num} is {month[month_num]}\")\n",
    "else:\n",
    "    print(\"Invalid input! Please enter a number between 1 and 12.\")\n"
   ]
  },
  {
   "cell_type": "code",
   "execution_count": 7,
   "id": "ce196c2a-1d4b-49c9-b971-df7861dc1278",
   "metadata": {},
   "outputs": [
    {
     "name": "stdin",
     "output_type": "stream",
     "text": [
      "Enter your age:   25\n"
     ]
    },
    {
     "name": "stdout",
     "output_type": "stream",
     "text": [
      "Your ticket costs £6.00\n"
     ]
    }
   ],
   "source": [
    "#Exercise 2 \n",
    " \n",
    " \n",
    "age = int(input('Enter your age:  '))\n",
    "if age >= 60:\n",
    " print('Your ticket costs £2.00')\n",
    "\t\n",
    "elif 17 <= age <= 59: \n",
    " print('Your ticket costs £6.00')\n",
    "  \n",
    "elif age <= 16:\n",
    "  print('Your ticket costs £3.00')"
   ]
  },
  {
   "cell_type": "code",
   "execution_count": 9,
   "id": "136d7366-7ff0-490f-b9ad-c7a6c103858d",
   "metadata": {},
   "outputs": [
    {
     "name": "stdin",
     "output_type": "stream",
     "text": [
      "Enter your weight(kg):   55\n",
      "Enter your height in(m):  154\n"
     ]
    },
    {
     "name": "stdout",
     "output_type": "stream",
     "text": [
      "Your are in the \"Underweight\" range\n"
     ]
    }
   ],
   "source": [
    "#excercise 3\n",
    "weight =  float(input(\"Enter your weight(kg):  \"))\n",
    "height = float(input(\"Enter your height in(m): \"))\n",
    " \n",
    "BMI_range = weight / (height ** 2)\n",
    "if BMI_range < 18.5:\n",
    "    print('Your are in the \"Underweight\" range')\n",
    "\t\n",
    "elif 18.5 <= BMI_range <= 24.9: \n",
    "  print('Your are in the \"Normal\" range')\n",
    "  \n",
    "elif 25 <= BMI_range <= 29.9:\n",
    "  print('Your are in the \"Overweight\" range')\n",
    "  \n",
    "else:\n",
    "  print('Your are in the \"Obese\" range')\n",
    " "
   ]
  },
  {
   "cell_type": "code",
   "execution_count": 11,
   "id": "488db9c2-5b74-488d-9f5f-f03b3a898c92",
   "metadata": {},
   "outputs": [
    {
     "name": "stdin",
     "output_type": "stream",
     "text": [
      "Enter the 1st number:   1\n",
      "Enter the 2nd number:   8\n",
      "Enter the 3rd number:   9\n"
     ]
    },
    {
     "name": "stdout",
     "output_type": "stream",
     "text": [
      "The greatest number is 9.0\n"
     ]
    }
   ],
   "source": [
    "#Exercise 4 Write a Python program to receive 3 numbers from the user and print the greatest among them. \n",
    " \n",
    "get = float(input(\"Enter the 1st number:  \"))\n",
    "get1 = float(input(\"Enter the 2nd number:  \"))\n",
    "get2 = float(input(\"Enter the 3rd number:  \"))\n",
    "\n",
    "print(f\"The greatest number is {max(get, get1, get2)}\")"
   ]
  },
  {
   "cell_type": "code",
   "execution_count": 13,
   "id": "af3575d1-22b6-4e7e-b46a-6855b5ef4223",
   "metadata": {},
   "outputs": [
    {
     "name": "stdin",
     "output_type": "stream",
     "text": [
      "Enter a number:  5\n"
     ]
    },
    {
     "name": "stdout",
     "output_type": "stream",
     "text": [
      "The factorial of 5 is 120\n"
     ]
    }
   ],
   "source": [
    "#Exercise 5 Find the factorial of a given number using loops(note the number is received from the user) \n",
    " \n",
    "\n",
    "number = int(input(\"Enter a number: \"))\n",
    "\n",
    "factorial = 1\n",
    "i = 1\n",
    "while i <= number:\n",
    "    factorial *= i\n",
    "    i += 1\n",
    "\n",
    "print(f\"The factorial of {number} is {factorial}\")"
   ]
  },
  {
   "cell_type": "code",
   "execution_count": 17,
   "id": "3819b965-c758-48cc-90ca-1cba2126af6d",
   "metadata": {},
   "outputs": [
    {
     "name": "stdin",
     "output_type": "stream",
     "text": [
      "Enter a number:  234\n"
     ]
    },
    {
     "name": "stdout",
     "output_type": "stream",
     "text": [
      "The reverse of 234 is 432\n"
     ]
    }
   ],
   "source": [
    "#Exercise 6 Reverse a number using while loop\n",
    " \n",
    "number = int(input(\"Enter a number: \"))\n",
    " \n",
    "\n",
    "# Store the original number (for display later)\n",
    "original_num = number\n",
    "\n",
    "# Initialize the variable to hold the reversed number\n",
    "reversed_num = 0\n",
    "\n",
    "# Reverse the number using a while loop\n",
    "while number != 0:\n",
    "    # Extract the last digit\n",
    "    digit = number % 10\n",
    "    # Append the digit to the reversed number\n",
    "    reversed_num = reversed_num * 10 + digit\n",
    "    # Remove the last digit from num\n",
    "    number //= 10\n",
    "\n",
    "# Print the reversed number\n",
    "print(f\"The reverse of {original_num} is {reversed_num}\")\n"
   ]
  },
  {
   "cell_type": "code",
   "execution_count": 25,
   "id": "3d116ed7-6708-4c2c-8bfb-9b5a175d04dc",
   "metadata": {},
   "outputs": [
    {
     "name": "stdin",
     "output_type": "stream",
     "text": [
      "Enter a number:  3\n",
      "Enter the limit:  20\n"
     ]
    },
    {
     "name": "stdout",
     "output_type": "stream",
     "text": [
      "Multiples of 3 up to 20 are:\n",
      "3 6 9 12 15 18 "
     ]
    }
   ],
   "source": [
    "# excercise 7 print the multiples of a number using loop\n",
    "num = int(input(\"Enter a number: \"))\n",
    "limit = int(input(\"Enter the limit: \"))\n",
    "\n",
    "\n",
    "if num <= 0 or limit <= 0:\n",
    "    print(\"Please enter positive numbers only.\")\n",
    "else:\n",
    "    print(f\"Multiples of {num} up to {limit} are:\")\n",
    "\n",
    "   \n",
    "    current_multiple = num\n",
    "\n",
    "    \n",
    "    while current_multiple <= limit:\n",
    "        print(current_multiple, end=\" \")  # Print in one line\n",
    "        current_multiple += num  # Move to the next multiple\n"
   ]
  },
  {
   "cell_type": "code",
   "execution_count": 27,
   "id": "5c13bd57-16d3-4342-a3cd-c71fedccf1c2",
   "metadata": {},
   "outputs": [
    {
     "name": "stdin",
     "output_type": "stream",
     "text": [
      " Hello there\n"
     ]
    },
    {
     "name": "stdout",
     "output_type": "stream",
     "text": [
      "Hello there\n"
     ]
    },
    {
     "name": "stdin",
     "output_type": "stream",
     "text": [
      " Finished\n"
     ]
    },
    {
     "name": "stdout",
     "output_type": "stream",
     "text": [
      "Finished\n"
     ]
    },
    {
     "name": "stdin",
     "output_type": "stream",
     "text": [
      " done\n"
     ]
    }
   ],
   "source": [
    "#Exercise 8 Write a program to print the inputted value as it is and break the loop if the value is 'done'.\n",
    "while True:\n",
    "    user_input = input()  \n",
    "    \n",
    "    if user_input.lower() == \"done\":  \n",
    "        break  \n",
    "    \n",
    "    print(user_input)  \n"
   ]
  },
  {
   "cell_type": "code",
   "execution_count": 29,
   "id": "266b4085-3f97-4e3e-baa2-2b6b9761d783",
   "metadata": {},
   "outputs": [
    {
     "name": "stdout",
     "output_type": "stream",
     "text": [
      "1\n",
      "2\n",
      "Fizz\n",
      "4\n",
      "Buzz\n",
      "Fizz\n",
      "7\n",
      "8\n",
      "Fizz\n",
      "Buzz\n"
     ]
    }
   ],
   "source": [
    "#excercise 9\n",
    "for num in range(1, 11):  \n",
    "    if num % 3 == 0 and num % 5 == 0:  \n",
    "        print(\"FizzBuzz\")\n",
    "    elif num % 3 == 0:  \n",
    "        print(\"Fizz\")\n",
    "    elif num % 5 == 0:  \n",
    "        print(\"Buzz\")\n",
    "    else:\n",
    "        print(num)  \n"
   ]
  },
  {
   "cell_type": "code",
   "execution_count": 31,
   "id": "8bc3b102-55c0-4f81-9488-c6a2081c778d",
   "metadata": {},
   "outputs": [
    {
     "name": "stdout",
     "output_type": "stream",
     "text": [
      "5 4 3 2 1 \n",
      "4 3 2 1 \n",
      "3 2 1 \n",
      "2 1 \n",
      "1 \n"
     ]
    }
   ],
   "source": [
    "#Exercise 10 Write a program to print the following pattern: 5 4 3 2 1 4 3 2 1 3 2 1 2 1 1\n",
    "for i in range(5, 0, -1):  \n",
    "    for j in range(i, 0, -1):  \n",
    "        print(j, end=\" \") \n",
    "    print() \n"
   ]
  },
  {
   "cell_type": "code",
   "execution_count": null,
   "id": "7950b9ee-378a-484a-a355-01d672cc0884",
   "metadata": {},
   "outputs": [],
   "source": []
  }
 ],
 "metadata": {
  "kernelspec": {
   "display_name": "Python [conda env:base] *",
   "language": "python",
   "name": "conda-base-py"
  },
  "language_info": {
   "codemirror_mode": {
    "name": "ipython",
    "version": 3
   },
   "file_extension": ".py",
   "mimetype": "text/x-python",
   "name": "python",
   "nbconvert_exporter": "python",
   "pygments_lexer": "ipython3",
   "version": "3.12.7"
  }
 },
 "nbformat": 4,
 "nbformat_minor": 5
}
